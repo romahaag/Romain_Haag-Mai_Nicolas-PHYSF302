{
 "cells": [
  {
   "cell_type": "code",
   "execution_count": 1,
   "metadata": {
    "collapsed": true
   },
   "outputs": [],
   "source": [
    "from matplotlib import pyplot\n",
    "import numpy as np\n",
    "import random\n",
    "import math\n",
    "from IPython.display import display, Math, Latex\n",
    "import matplotlib.pyplot \n",
    "from matplotlib import pyplot\n",
    "%matplotlib inline\n",
    "from matplotlib import rcParams, cm\n",
    "rcParams['font.family'] = 'serif'\n",
    "rcParams['font.size'] = 16"
   ]
  },
  {
   "cell_type": "markdown",
   "metadata": {},
   "source": [
    "# Equation bi-harmonique et méthode des gradients conjugués"
   ]
  },
  {
   "cell_type": "markdown",
   "metadata": {},
   "source": [
    "## Cadre théorique"
   ]
  },
  {
   "cell_type": "markdown",
   "metadata": {},
   "source": [
    "Afin de formuler le problème, on part de l'équation de Navier-Stokes,\n",
    "$$ \\frac{\\partial \\vec{u}}{\\partial t} + \\vec{u}.\\vec{\\nabla}\\vec{u} = -\\frac{1}{\\rho}\\vec{\\nabla}P + \\nu \\nabla^2\\vec{u} $$\n",
    "La fonction vectorielle $\\vec{u} = \\vec{u}(\\vec{x},t)$ est le champ de vitesse du fluide au point de coordonnées $\\vec{x}$ et à l'instant $t$. La quantité $\\vec{\\nabla}\\vec{u}$ est un tenseur à deux indices et '.' symbolise l'opération de contraction du tenseur. La quantité $\\rho$ est la masse volumique du fluide, $P = P(\\vec{x})$ la pression hydrostatique et $\\nu$ la viscosité cinématique.\n",
    "\n",
    "Le membre de gauche de l'équation contient les termes représentant l'accélération des particules de fluide, i.e. les termes inertiels. On fait ici l'hypothèse de petit nombre de Reynolds, ce qui revient à considérer que les effets d'inertie sont négligeables en regard des effets visqueux et des effets de pression. Sous ces considérations le m.d.g. de Navier-Stokes disparaît.\n",
    "On applique ensuite l'opérateur rotationnel $rot = \\vec{\\nabla} \\times $, grâce à quoi le terme de pression s'annule. En effet, \n",
    "$$ [\\vec{\\nabla}\\times\\vec{\\nabla}P]_i = \\epsilon_{ijk}\\partial_j\\partial_k P $$\n",
    "les opérateur $\\partial_l$ commutent,\n",
    "$$\\partial_j\\partial_k = \\partial_k\\partial_j$$\n",
    "puis en renommant les indices et tenant compte ensuite de la propriété d'antisymétrie du tenseur $\\epsilon_{ijk}$,\n",
    "$$\\epsilon_{ijk}\\partial_j\\partial_k = \\epsilon_{ijk}\\partial_k\\partial_j = \\epsilon_{ikj}\\partial_j\\partial_k = -\\epsilon_{ijk}\\partial_j\\partial_k$$\n",
    "$$\\Rightarrow \\epsilon_{ijk}\\partial_j\\partial_k = -\\epsilon_{ijk}\\partial_j\\partial_k = 0$$\n",
    "\n",
    "De l'équation de Navier-Stokes il ne reste donc que:\n",
    "$$ \\vec{\\nabla} \\times \\nabla^2 \\vec{u} = 0 $$\n",
    "\n",
    "En se rappelant la définition de la vorticité:\n",
    "$$ \\vec{\\omega} \\equiv \\vec{\\nabla} \\times \\vec{u} $$\n",
    "\n",
    "on obtient trois équations de Laplace(I):\n",
    "\n",
    "\n",
    "$$ \\nabla^2 \\vec{\\omega} = 0$$\n",
    "\n",
    "\n",
    "Par ailleurs, l'hypothèse d'incompressibilité \n",
    "$$\n",
    "\\vec{\\nabla} . \\vec{u}=0 $$\n",
    "\n",
    "impose l'existence d'un potentiel vectoriel de courant\n",
    "$$ \\exists \\vec{A} : \\vec{\\nabla}\\times\\vec{A}=\\vec{u} $$\n",
    "\n",
    "De plus,\n",
    "$$[\\vec{\\nabla}\\times\\vec{u}]_i =[\\vec{\\nabla}\\times\\vec{\\nabla}\\times\\vec{A}]_i = \\epsilon_{ijk}\\partial_j\\epsilon_{klm}\\partial_l A_m $$\n",
    "\n",
    "$$=(\\delta_{il}\\delta_{jm}-\\delta_{im}\\delta_{jl})\\partial_j\\partial_l A_m $$\n",
    "\n",
    "$$=\\partial_j\\partial_i A_j-\\partial_j^2 A_i $$\n",
    "\n",
    "$$\\Rightarrow \\vec{\\omega} = \\vec{\\nabla}\\times\\vec{u}=\\vec{\\nabla}(\\vec{\\nabla}.\\vec{A})-\\nabla^2\\vec{A} $$\n",
    "\n",
    "Par choix de jauge, $\\vec{\\nabla}(\\vec{\\nabla}.\\vec{A}) = 0$. On aboutit donc à trois équations de Poisson (II):\n",
    "$$\\nabla^2 \\vec{A} = -\\vec{\\omega}$$\n",
    "\n",
    "Les équations (I) et (II) se combinent comme:\n",
    "\n",
    "$$\\nabla^2 \\vec{\\omega} = -\\nabla^2 \\nabla^2 \\vec{A} = 0 $$\n",
    "\n",
    "ce qui aboutit à l'équation vectorielle suivante, dite biharmonique:\n",
    "\n",
    "$$\\nabla^4 \\vec{A} = 0$$\n",
    "\n",
    "Par la bidimensionnalité du champ de vitesse $\\vec{u}$ on peut définir le potentiel de courant $\\vec{A}$ tel que\n",
    "\n",
    "$$ \\vec{A} = (0,0,\\psi) $$\n",
    "\n",
    "où $\\psi$ est une fonction scalaire de l'espace nommée la fonction de courant, dont les dérivées s'expriment en termes du champ de vitesse $\\vec{u} = (u,v,w)$ selon:\n",
    "\n",
    "$$\\partial_y \\psi = u$$\n",
    "$$\\partial_x \\psi = -v $$\n",
    "\n",
    "L'équation biharmonique se réduit donc à une seule équation non-triviale:\n",
    "\n",
    "$$ \\nabla ^4 \\psi = 0 $$"
   ]
  },
  {
   "cell_type": "code",
   "execution_count": 2,
   "metadata": {
    "collapsed": true
   },
   "outputs": [],
   "source": [
    "nx = 41\n",
    "ny = 41\n",
    "\n",
    "l = 1.\n",
    "h = 1.\n",
    "\n",
    "dx = l/(nx-1)\n",
    "dy = h/(ny-1)\n",
    "\n",
    "l1_target = 10**(-8)\n",
    "\n"
   ]
  },
  {
   "cell_type": "markdown",
   "metadata": {},
   "source": [
    "   ## Calcul du Super-Laplacien"
   ]
  },
  {
   "cell_type": "markdown",
   "metadata": {},
   "source": [
    "Afin de résoudre l'équation bi-harmonique, nous devons tout d'abord définir un opérateur Super-Laplacien partout sur notre domaine. Celui ci se compose de dérivées pures d'ordre 4 et de dérivées mixtes d'ordre 2:\n",
    "$$\\nabla^4\\psi = \\nabla^2(\\nabla^2\\psi) = \\nabla^2(\\frac{\\partial^2\\psi}{\\partial x^2} + \\frac{\\partial^2\\psi}{\\partial y^2} ) = \\frac{\\partial^4 \\psi}{\\partial x^4} + 2\\frac{\\partial^4 \\psi}{\\partial x^2\\partial y^2} + \\frac{\\partial^4 \\psi}{\\partial y^4} $$\n",
    "A l'image des dérivées secondes qui ont besoin de 3 points pour étre déterminées, les dérivées d'ordre 4 en ont besoin de 5. \n",
    "\n",
    "On procède conformément au cas du simple Laplacien, en développant la fonction $\\psi(x,y)$ en $(x+\\Delta x , y)$ et en $(x,y+\\Delta y)$ à la nuance près que nous allons jusqu'à l'ordre 4 pour faire apparaître les dérivées qui nous intéressent.\n",
    "Afin d'alléger l'écriture nous n'indiquerons dans le raisonnement ci-dessous, que la dépendance en la variable vis-à-vis de laquelle on développera la fonction.\n",
    "\n",
    "$$\\psi(x+\\Delta x ) =\\psi(x)+\\psi'(x)\\Delta x +\\psi''(x)\\Delta x^2/2+\\psi'''(x)\\Delta x^3/6+\\psi''''(x)\\Delta x^4/24$$\n",
    "$$\\psi(x-\\Delta x ) =\\psi(x)-\\psi'(x)\\Delta x +\\psi''(x)\\Delta x^2/2-\\psi'''(x)\\Delta x^3/6+\\psi''''(x)\\Delta x^4/24$$\n",
    "\n",
    "Nous n'avons ici que deux équation, ce qui ne nous permet pas de définir $\\frac{\\partial^4\\psi(x)}{\\partial x^4}$ uniquement en fonction des valeurs de $\\psi$. En effet en additionant ces deux lignes on élimine les termes contenant des dérivées d'ordre impair et on obtient une première équation (III):\n",
    "$$\\psi(x +\\Delta x)+\\psi(x-\\Delta x)=2\\psi(x)+\\psi''(x)\\Delta x^2+\\psi''''(x)\\Delta x^4/12 $$\n",
    "\n",
    "Il nous faut donc d'autres équations afin d'éliminer les dérivées d'ordre 2.\n",
    "\n",
    "Elles s'obtiennent en estimant la fonction un peu plus loin que ce que nous avons fait, en $x+2\\Delta x$ par exemple : \n",
    "\n",
    "\n",
    "$$\\psi(x-2\\Delta x ) =\\psi(x)-2\\psi'(x)\\Delta x +2\\psi''(x)\\Delta x^2-\\frac{4}{3}\\psi'''(x)\\Delta x^3+\\frac{2}{3}\\psi''''(x)\\Delta x^4$$\n",
    "$$\\psi(x+2\\Delta x ) =\\psi(x)+2\\psi'(x)\\Delta x +2\\psi''(x)\\Delta x^2+\\frac{4}{3}\\psi'''(x)\\Delta x^3+\\frac{2}{3}\\psi''''(x)\\Delta x^4$$\n",
    "\n",
    "De même, en additionant ces deux lignes on obtient une seconde équation (IV):\n",
    "\n",
    "$$\\psi(x+2\\Delta x)+\\psi(x-2\\Delta x)=2\\psi(x)+4\\psi''(x)\\Delta x^2+\\frac{4}{3}\\psi''''(x)\\Delta x^4$$\n",
    "\n",
    "\n",
    "Nous avons maintenant assez pour éliminer totalement les dérivées secondes de l'expression de $\\psi''''(x)$. On le fait au moyen de l'opération (IV) - 4(III), d'où:\n",
    "\n",
    "$$\\psi(x+2\\Delta x)+\\psi(x-2\\Delta x)-4\\psi(x+\\Delta x)-4\\psi(x-\\Delta x)=-6\\psi(x)+\\psi''''(x)\\Delta x^4 $$\n",
    "\n",
    "Finalement,\n",
    "\n",
    "$$\\frac{\\partial^4 \\psi(x,y)}{\\partial x^4} \\leftarrow \\psi''''(x)=\\frac{1}{\\Delta x^4}\\big(\\psi(x+2\\Delta x)+\\psi(x-2\\Delta x)-4\\psi(x+\\Delta x)-4\\psi(x-\\Delta x)+6\\psi(x)\\big) $$\n",
    "\n",
    "Et voilà, nous avons implémenté au point $x$ la dérivée d'ordre 4, en utilisant uniquement les valeurs prises par la fonction $\\psi$ dans un voisinage de $x$.\n",
    "\n",
    "La dérivée selon y s'obtient de la même façon.\n",
    "\n",
    "Pour les dérivées mixtes, nous procédons légèrement différement. Nous n'avons pas envie de nous ennuyer à devoir développer $\\psi(x+\\Delta x, y+\\Delta y)$ autour de $(x,y)$ jusqu'à l'ordre 4 (par exemple). À la place nous calculons d'abord la dérivée d'ordre deux selon x ou y - peu importe, de manière tout à fait classique (\"central difference scheme\") : \n",
    "\n",
    "$$\\frac{\\partial^2 \\psi}{\\partial x^2}(x,y)=(\\psi(x+\\Delta x,y)+\\psi(x-\\Delta x,y) - 2\\psi(x,y))/\\Delta x^2 $$\n",
    "\n",
    "Nous définissons ensuite une nouvelle fonction g selon $g(x,y)=\\frac{\\partial^2\\psi}{\\partial x^2}(x,y)$\n",
    "\n",
    "Maintenant nous prenons la dérivée seconde de g selon y : \n",
    "\n",
    "$$\\frac{\\partial^2 g}{\\partial y^2}(x,y)=(g(x,y+\\Delta y)+g(x,y-\\Delta y) - 2g(x,y))/\\Delta x^2 $$\n",
    "\n",
    "Si l'on décompose g (mais il faut vraiment en avoir envie car ce n'est pas très agréabla à l'oeil) on a :\n",
    "\n",
    "$$\\frac{\\partial^4 \\psi}{\\partial x^2 \\partial y ^2}(x,y)=\\Big(\\psi(x+\\Delta x, y + \\Delta y )+ \\psi(x-\\Delta x,y+\\Delta y)-2\\psi(x,y+\\Delta y) + \\psi(x+\\Delta x, y-\\Delta y)+\\psi(x-\\Delta x,y-\\Delta y)-2\\psi(x,y-\\Delta y)-2\\psi(x+\\Delta x ,y)-2\\psi(x-\\Delta x, y) +4\\psi(x,y) \\Big)/\\Delta x^2\\Delta y^2 $$\n",
    "\n",
    "Notons qu'il faut prendre deux fois cette contribution dans le Super-Laplacien. Nous avons d'ailleurs tout en main pour implémenter celui-ci."
   ]
  },
  {
   "cell_type": "markdown",
   "metadata": {},
   "source": [
    "## Implémentation "
   ]
  },
  {
   "cell_type": "code",
   "execution_count": 3,
   "metadata": {
    "collapsed": true
   },
   "outputs": [],
   "source": [
    "def super_laplacian(A,nx,ny,dx,dy):\n",
    "    g_xx=np.zeros_like(A) \n",
    "    g_yy=np.zeros_like(A)          #On initialise les 3 matrices qui contiendront les valeurs des dérivées pures\n",
    "    g_xy=np.zeros_like(A)          #en x et en y et les valeurs de la dérivée mixte, sur tout le domaine [nx-4].[ny-4].dx.dy \n",
    "    g_tot=np.zeros_like(A)         #On initialise aussi g_tot qui contiendra les valeurs du Super-Laplacien sur le domaine.\n",
    "    for n in range (2,nx-2):\n",
    "        for m in range(2,ny-2):\n",
    "            g_xx[n,m]=(A[n+2,m]+A[n-2,m]-4*A[n+1,m]-4*A[n-1,m]+6*A[n,m])/dx**4\n",
    "            g_yy[n,m]=(A[n,m+2]+A[n,m-2]-4*A[n,m+1]-4*A[n,m-1]+6*A[n,m])/dy**4\n",
    "            g_xy[n,m]=2*(A[n+1,m+1]+A[n-1,m+1]-2*A[n,m+1]+A[n+1,m-1]+A[n-1,m-1]-2*A[n,m-1]-2*A[n+1,m]-2*A[n-1,m]+4*A[n,m])/((dx**2)*(dy**2))\n",
    "            g_tot[n,m]=g_xx[n,m]+g_yy[n,m]+g_xy[n,m]\n",
    "    return g_tot[2:-2,2:-2]"
   ]
  },
  {
   "cell_type": "markdown",
   "metadata": {},
   "source": [
    "On se donne des conditions de Neuman sur la fonction de courant $\\psi$ au bord du domaine d'aire $n_x.n_y.dx.dy$. Il s'agit bien de conditions de Neuman sur $\\psi$ puisque ce sont des conditions sur la valeur du champ de vitesse $\\vec{u} = (u,v,w)$, dont les composantes sont données par les fonctions $\\partial_i\\psi$.\n",
    "Les conditions sont $u = 1$ en $y = n_y.dy$, $u = 0$ en $y = 0$, $v = 0$ en $x = 0$ et $x = n_x.dx$. En termes des dérivées de $\\psi$:\n",
    "\n",
    "$\\partial_y \\psi = 1$ en $y = n_y.dy$;\n",
    "$\\partial_y \\psi =  0$ en $y = 0$;\n",
    "$\\partial_x \\psi = 0$ en $x = 0$;\n",
    "$\\partial_x \\psi = 0$ en $x = n_x.dx$.\n",
    "\n",
    "Une petite subtilité: on implémentera les conditions de Neuman sous forme de conditions de Dirichlet, i.e. sur les valeurs de la fonction $\\psi$ au bord. Pour y arriver, voici le calcul que nous avons fait. Ici nous considérons $y = 0$ et traitons $\\psi$ comme une fonction à une seule variable $y$.\n",
    "\n",
    "$$\\psi(y+\\Delta y) = \\psi(y) + \\psi'(y)\\Delta y  + \\psi''(y)\\frac{\\Delta y^2}{2} + O(\\Delta y^3)$$\n",
    "$$\\psi(y+2\\Delta y) = \\psi(y) + 2 \\psi'(y)\\Delta y + \\psi''(y)\\frac{(2\\Delta y)^2}{2} + O(\\Delta y^3)$$\n",
    "\n",
    "$$\\Rightarrow \\psi(y + 2 \\Delta y) - 4\\psi(y + \\Delta y) = -3 \\psi(y) - 2 \\psi'(y)\\Delta y $$\n",
    "\n",
    "$$\\Rightarrow \\psi(y = 0) = \\frac{1}{3}\\Big( 4 \\psi(y = \\Delta y) - \\psi(y = 2\\Delta y) - 2 \\psi'(y = 0)\\Delta y \\Big) $$\n",
    "\n",
    "Or on impose la condition $\\psi'(y = 0) = 0$ donc\n",
    "$$\\psi(y = 0) = \\frac{1}{3}\\Big( 4 \\psi(y = \\Delta y) - \\psi(y = 2\\Delta y) \\Big) $$\n",
    "\n",
    "Idem pour $x = 0$, en faisant le changement $y \\rightarrow x $.\n",
    "\n",
    "Pour $y = n_y.\\Delta y$, le calcul est légèrement différent:\n",
    "\n",
    "$$\\psi(y-\\Delta y) = \\psi(y) - \\psi'(y)\\Delta y + \\psi''(y)\\frac{\\Delta y^2}{2} + O(\\Delta y^3)$$\n",
    "$$\\psi(y-2\\Delta y) = \\psi(y) - 2\\psi'(y)\\Delta y + \\psi''(y)\\frac{(2\\Delta y)^2}{2} + O(\\Delta y^3)$$\n",
    "\n",
    "$$\\Rightarrow \\psi(y - 2 \\Delta y) - 4\\psi(y - \\Delta y) = -3 \\psi(y) + 2\\psi'(y)\\Delta y $$\n",
    "\n",
    "$$\\Rightarrow \\psi(n_y.\\Delta y) = \\frac{1}{3}\\Big( 4 \\psi((n_y-1).\\Delta y) - \\psi((n_y-2).\\Delta y) + 2 \\Delta y \\Big) $$\n",
    "en tenant compte de la condition $\\psi'(n_y.\\Delta y) = 1$.\n",
    "\n",
    "Pour $x = n_x.\\Delta x$ le résultat est légèrement différent car la condition est $\\psi'(x = n_x.\\Delta x) = 0$ donc on n'a pas le terme $2 \\Delta x$."
   ]
  },
  {
   "cell_type": "code",
   "execution_count": 4,
   "metadata": {
    "collapsed": true
   },
   "outputs": [],
   "source": [
    "def L1_norm(new, old):            #Une fonction qui donne la norme de la différence entre deux solutions \n",
    "    norm = np.sum(np.abs(new-old))\n",
    "    return norm"
   ]
  },
  {
   "cell_type": "markdown",
   "metadata": {},
   "source": [
    "## Gradients conjugués et solution "
   ]
  },
  {
   "cell_type": "markdown",
   "metadata": {},
   "source": [
    "Afin de résoudre l'équation bi-harmonique, nous utilisons la méthode des gradients conjugués. Celle-ci est exposée dans le MOOC qui nous est donné et nous n'avons, pour notre problème, que peu de choses à modifier dans le code fourni. Nous présenterons donc un code quasi-identique à celui du MOOC. Par honnêteté, nous avons gardé les mêmes noms pour les variables et autres éléments intervenant dans le code. Les modifications à apporter sont les suivantes: tout d'abord, l'opérateur à utiliser ici est le Super-Laplacian que nous avons défini plus haut. De plus il faut faire attention à ce que le résidu, de même que la matrice de recherche aient $ (n_x-2)\\times(n_y-2) $ élèments sur lesquels porte l'itération ( au lieu de $ (n_x-1)\\times(n_y-1)$ ) pour l'équation avec un simple Laplacien). Finalement, nous avons introduit à la fin du code les conditions de Neuman - détaillées précédemment, que la solution doit satisfaire."
   ]
  },
  {
   "cell_type": "code",
   "execution_count": 5,
   "metadata": {
    "collapsed": true
   },
   "outputs": [],
   "source": [
    "def poisson_2d_conjugate_gradient(p0,dx, dy,maxiter, rtol) : \n",
    "    \n",
    "    p=p0.copy()\n",
    "    r = np.zeros_like(p)  # Résidu initial\n",
    "    Ad = np.zeros_like(p)  # Une matrice pour stocker le super-laplacien \n",
    "    conv = []   #Liste qui servira à consulter la norme de la différence entre 2 solutions succéssives\n",
    "    diff = rtol + 1  # Différence initiale \n",
    "    ite = 0  # Index de l'itération\n",
    "    \n",
    "    # Le résidu initial ( le terme de source est nul)\n",
    "    \n",
    "    r[2:-2, 2:-2] =-super_laplacian(p,nx,ny,dx,dy)\n",
    "\n",
    "    # La première matrice de recherche est notre résidu\n",
    "    d = r.copy()\n",
    "    while diff > rtol and ite < maxiter:\n",
    "        pk = p.copy()\n",
    "        rk = r.copy()\n",
    "        \n",
    "        # on prend le super-laplacien de notre matrice de recherche \n",
    "        \n",
    "        Ad[2:-2, 2:-2] = super_laplacian(d,nx,ny,dx,dy)\n",
    "        \n",
    "        # on attribue la taille du pas\n",
    "        \n",
    "        alpha = np.sum(r * r) / np.sum(d * Ad)\n",
    "        \n",
    "        # on itère la solution \n",
    "        p = pk + alpha * d\n",
    "        \n",
    "        # on itère le résidu \n",
    "        r = rk - alpha * Ad\n",
    "        \n",
    "        # On itère la matrice de recherche\n",
    "        beta = np.sum(r * r) / np.sum(rk * rk)\n",
    "        d = r + beta * d\n",
    "        \n",
    "       \n",
    "        # On prend la norme, on l'ajoute au tableau conv et on augmente de 1 le nombre d'itérations\n",
    "        diff = L1_norm(p, pk)\n",
    "        conv.append(diff)\n",
    "        ite += 1\n",
    "        \n",
    "        # on implémene les conditions de Neuman.\n",
    "        \n",
    "        p[:,0]=4*p[:,1]/3-p[:,2]/3\n",
    "        p[0,:]=4*p[1,:]/3-p[2,:]/3\n",
    "        p[-1,:]=-p[-3,:]/3+4*p[-2,:]/3\n",
    "        p[:,-1]=2*dy/3-p[:,-3]/3+4*p[:,-2]/3\n",
    "                                                         \n",
    "    return p , ite, conv"
   ]
  },
  {
   "cell_type": "code",
   "execution_count": 6,
   "metadata": {
    "collapsed": true
   },
   "outputs": [],
   "source": [
    "A_1 = np.zeros((nx,ny)) #Conditions initiales\n",
    "\n",
    "A_1[:,-1]=1\n",
    "\n",
    "A_final, nbr , converg = poisson_2d_conjugate_gradient(A_1, dx, dy,maxiter=40000, rtol=1e-8)\n",
    "A_f=np.transpose(A_final)"
   ]
  },
  {
   "cell_type": "markdown",
   "metadata": {},
   "source": [
    "Nous avons pris la transposée de notre solution car Python interprète les élèments [i,j] d'une matrice (notation conventionnelle) comme les éléments [j,i]. Si l'on ignore cette étape, les axes x et y sont inversés sur le plot. Ce faisant nous obtenons ce premier plot."
   ]
  },
  {
   "cell_type": "code",
   "execution_count": 7,
   "metadata": {},
   "outputs": [
    {
     "data": {
      "image/png": "[encoded data removed]",
      "text/plain": [
       "<matplotlib.figure.Figure at 0x70b1c50>"
      ]
     },
     "metadata": {},
     "output_type": "display_data"
    }
   ],
   "source": [
    "x = np.linspace(0,l,nx)  \n",
    "y = np.linspace(0,l,ny)\n",
    "pyplot.figure(figsize=(10,7))\n",
    "pyplot.contourf(x,y,A_f,11,cmap=cm.viridis)\n",
    "pyplot.xlabel('$x$')\n",
    "pyplot.ylabel('$y$')\n",
    "pyplot.colorbar();"
   ]
  },
  {
   "cell_type": "markdown",
   "metadata": {},
   "source": [
    "Il n'est pas trop mal mais nous voyons qu'il se passe des choses un peu étrange au bord. Est-ce si surprenant ? Pas tellement, rappelons-nous que pour calculer le Super-Laplacien nous avions besoin de points à $2\\Delta x$ d'écart, ce pourquoi le Super-Laplacien n'était pas défini sur les bords. Les points des bandes de largeur $2\\Delta x$  n'interviennent pas dans notre recherche de solution avec la méthode des gradients conjugués et donc rien n'indique qu'ils correspondent bien à la solution. Ainsi, nous ré-effectuons notre plot en excluant ces points. À noter que nous aurions pu calculer le Super-Laplacien sur les bords (dans les coins il aurait probablement fallu un peu tricher). Il aurait suffit de calculer les dérivées quatrièmes non plus centrées comme nous l'avons fait mais forward ou backward selon que l'endroit que nous considérions sur le cadre. Nous avons cependant jugé que cela n'apporterait rien à la compréhension du problème. Voici donc le Plot final:"
   ]
  },
  {
   "cell_type": "code",
   "execution_count": 8,
   "metadata": {},
   "outputs": [
    {
     "data": {
      "image/png": "[encoded data removed]",
      "text/plain": [
       "<matplotlib.figure.Figure at 0xb3131f0>"
      ]
     },
     "metadata": {},
     "output_type": "display_data"
    }
   ],
   "source": [
    "x = np.linspace(dx,l,nx-2)  \n",
    "y = np.linspace(dy,l,ny-2)\n",
    "pyplot.figure(figsize=(10,7))\n",
    "pyplot.contourf(x,y,A_f[1:-1,1:-1],11,cmap=cm.viridis)\n",
    "pyplot.xlabel('$x$')\n",
    "pyplot.ylabel('$y$')\n",
    "pyplot.colorbar();"
   ]
  },
  {
   "cell_type": "markdown",
   "metadata": {},
   "source": [
    "Donnons-nous enfin les valeurs de $\\psi$ aux points (0.6,0.2) ; (0.6,0.4) ; (0.6,0.6) ; (0.6,0.8)."
   ]
  },
  {
   "cell_type": "code",
   "execution_count": 9,
   "metadata": {},
   "outputs": [
    {
     "name": "stdout",
     "output_type": "stream",
     "text": [
      "23.999999999999996\n",
      "8.0\n",
      "16.0\n",
      "32.0\n"
     ]
    }
   ],
   "source": [
    "print(0.6/dx)\n",
    "print(0.2/dx)\n",
    "print(0.4/dx)\n",
    "print(0.8/dx)"
   ]
  },
  {
   "cell_type": "code",
   "execution_count": 10,
   "metadata": {},
   "outputs": [
    {
     "name": "stdout",
     "output_type": "stream",
     "text": [
      "-1.21428681645 -2.70725826758 -2.70725826758 -1.21428681645\n"
     ]
    }
   ],
   "source": [
    "print(A_f[24,8],A_f[24,16],A_f[24,24],A_f[24,32])"
   ]
  },
  {
   "cell_type": "markdown",
   "metadata": {},
   "source": [
    "On se donne aussi les coordonnées du minimum et sa valeur."
   ]
  },
  {
   "cell_type": "code",
   "execution_count": 11,
   "metadata": {},
   "outputs": [
    {
     "name": "stdout",
     "output_type": "stream",
     "text": [
      "-3.55744865574\n",
      "0.75 0.5\n"
     ]
    }
   ],
   "source": [
    "A_min = A_f[0,0]\n",
    "k = 0\n",
    "l = 0\n",
    "for i in range (2,nx-3):\n",
    "    for j in range (2,ny-3):\n",
    "        if A_f[i,j] < A_min:\n",
    "            A_min = A_f[i,j]\n",
    "            k = i\n",
    "            l = j\n",
    "print(A_min)\n",
    "print(k*dx,l*dy)"
   ]
  },
  {
   "cell_type": "markdown",
   "metadata": {},
   "source": [
    "## Conclusion"
   ]
  },
  {
   "cell_type": "markdown",
   "metadata": {},
   "source": [
    "Concluons. On a tout d'abord implémenté l'opérateur Super-Laplacien. Ensuite, nous avons utilisé la méthode des gradients conjugués afin de résoudre l'équation biharmonique sur un domaine carré, ce qui revenait à déterminer la fonction de courant $\\psi(x,y)$ sur le domaine. En appliquant cette méthode, on a imposé des conditions de Neuman sur les bords, qui correspondent au glissement constant d'une plaque sur le bord supérieur du carré.\n",
    "Faisons quelques remarques sur la solution obtenue.\n",
    "\n",
    "Tout d'abord, $\\psi$ admet un minimum global au point de coordonnée $(0.5,0.75)$. Or, par définition le champ de vitesse $\\vec{u} = (u,v)$ est donné par le rotationnel de $\\psi$, et donc les composantes $u$ et $v$ sont données en termes des dérivées de $\\psi$. Par conséquent, les dérivées de $\\psi$ étant nulles au minimum, le champ de vitesse est lui-même nul en ce point.\n",
    "\n",
    "Ensuite, on voit que sous le minimum de $\\psi$, la dérivée selon $y$ est négative donc la composante $u$ du champ de vitesse est négative, i.e. les lignes de courant sont orientées vers la gauche. Au-dessus du minimum, la dérivée selon $y$ est positive donc le champ de vitesse va vers la droite. Par un raisonnement similaire sur les dérivées selon $x$, on obtient que les lignes de courant ont tendance à s'orienter vers le haut à gauche du minimum et vers le bas à sa droite. On a donc un champ de vitesse qui tourne dans le sens horlogique autour d'un point où le fluide ne bouge pas.\n",
    "\n",
    "Enfin, la vitesse horizontale du fluide au-dessus du minimum (de la fonction de courant) est plus grande qu'en-dessous de celui-ci. On le voit au fait que les courbes de niveau sont beaucoup plus rapprochées, signifiant que la dérivée selon $y$ prend des valeurs plus élevées que dans la zone inférieure. Cela s'explique par le fait que le fluide y est plus proche de la plaque en mouvement, qui lui imprime une vitesse vers la droite."
   ]
  }
 ],
 "metadata": {
  "kernelspec": {
   "display_name": "Python 3",
   "language": "python",
   "name": "python3"
  },
  "language_info": {
   "codemirror_mode": {
    "name": "ipython",
    "version": 3
   },
   "file_extension": ".py",
   "mimetype": "text/x-python",
   "name": "python",
   "nbconvert_exporter": "python",
   "pygments_lexer": "ipython3",
   "version": "3.6.2"
  }
 },
 "nbformat": 4,
 "nbformat_minor": 2
}
